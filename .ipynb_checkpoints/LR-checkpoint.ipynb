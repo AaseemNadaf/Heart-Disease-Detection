{
 "cells": [
  {
   "cell_type": "markdown",
   "id": "9db8f510-e525-4b48-a65e-cdffe1f6696d",
   "metadata": {},
   "source": [
    "## 1. IMPORT LIBRARIES & FETCH DATA"
   ]
  },
  {
   "cell_type": "code",
   "execution_count": 8,
   "id": "e07b4048-9dac-4969-bd96-54bdaf29d04c",
   "metadata": {},
   "outputs": [
    {
     "name": "stdout",
     "output_type": "stream",
     "text": [
      "--- Step 1: Fetching Data from UCI ---\n",
      "Data fetched successfully.\n"
     ]
    }
   ],
   "source": [
    "import pandas as pd\n",
    "import numpy as np\n",
    "from ucimlrepo import fetch_ucirepo\n",
    "from sklearn.model_selection import train_test_split\n",
    "from sklearn.preprocessing import StandardScaler\n",
    "from sklearn.impute import SimpleImputer # To handle missing data\n",
    "from sklearn.linear_model import LogisticRegression\n",
    "from sklearn.metrics import recall_score, confusion_matrix, accuracy_score\n",
    "import joblib\n",
    "import matplotlib.pyplot as plt\n",
    "import seaborn as sns\n",
    "from sklearn.metrics import precision_score, f1_score\n",
    "print(\"--- Step 1: Fetching Data from UCI ---\")\n",
    "\n",
    "# Fetch dataset\n",
    "heart_disease = fetch_ucirepo(id=45)\n",
    "\n",
    "# Data (as pandas dataframes)\n",
    "X = heart_disease.data.features\n",
    "y_raw = heart_disease.data.targets # Will be a DataFrame with a 'num' column\n",
    "\n",
    "print(\"Data fetched successfully.\")"
   ]
  },
  {
   "cell_type": "markdown",
   "id": "167f8396-59d2-4846-96ae-d647cecf79b3",
   "metadata": {},
   "source": [
    "## 2. PREPROCESSING"
   ]
  },
  {
   "cell_type": "code",
   "execution_count": 9,
   "id": "55159f2f-03ee-4547-9efa-e027f36c713e",
   "metadata": {},
   "outputs": [
    {
     "name": "stdout",
     "output_type": "stream",
     "text": [
      "--- Step 2: Preprocessing Data ---\n",
      "Missing values handled using median imputation.\n",
      "Target variable converted to binary (0 = no disease, 1 = has disease).\n"
     ]
    }
   ],
   "source": [
    "print(\"--- Step 2: Preprocessing Data ---\")\n",
    "\n",
    "# 1. Handle Missing Values \n",
    "# We'll replace missing values with the median of their column.\n",
    "imputer = SimpleImputer(strategy='median')\n",
    "X_imputed = imputer.fit_transform(X)\n",
    "\n",
    "# Put the imputed data back into a DataFrame with the original column names\n",
    "X = pd.DataFrame(X_imputed, columns=X.columns)\n",
    "print(\"Missing values handled using median imputation.\")\n",
    "\n",
    "# 2. Process the Target Variable (y)\n",
    "# We convert the target 'num' (0, 1, 2, 3, 4) to binary (0 or 1)\n",
    "# 0 stays 0 (no disease), and 1, 2, 3, 4 become 1 (has disease)\n",
    "y = y_raw['num'].apply(lambda x: 1 if x > 0 else 0)\n",
    "print(\"Target variable converted to binary (0 = no disease, 1 = has disease).\")"
   ]
  },
  {
   "cell_type": "markdown",
   "id": "6da0d605-3eea-42f7-ba45-d70e8cb7861d",
   "metadata": {},
   "source": [
    "## 3. DATA SPLITTING & SCALING"
   ]
  },
  {
   "cell_type": "code",
   "execution_count": 10,
   "id": "a72c2d22-4786-4c3e-badd-8741e2daa51e",
   "metadata": {},
   "outputs": [
    {
     "name": "stdout",
     "output_type": "stream",
     "text": [
      "--- Step 3: Data Split and Scaled ---\n",
      "Training data shape: (242, 13)\n",
      "Testing data shape: (61, 13)\n"
     ]
    }
   ],
   "source": [
    "# Split data into training and testing sets (80% train, 20% test)\n",
    "X_train, X_test, y_train, y_test = train_test_split(X, y, test_size=0.2, random_state=42)\n",
    "\n",
    "# Scale the feature data\n",
    "# This standardizes features to have 0 mean and unit variance\n",
    "scaler = StandardScaler()\n",
    "X_train_scaled = scaler.fit_transform(X_train)\n",
    "X_test_scaled = scaler.transform(X_test) # Use the same scaler from training\n",
    "\n",
    "print(\"--- Step 3: Data Split and Scaled ---\")\n",
    "print(f\"Training data shape: {X_train_scaled.shape}\")\n",
    "print(f\"Testing data shape: {X_test_scaled.shape}\")"
   ]
  },
  {
   "cell_type": "markdown",
   "id": "ccc2f151-1e9d-4f6b-81fc-b0a96a3ab58f",
   "metadata": {},
   "source": [
    "## 4. Train & Evaluate"
   ]
  },
  {
   "cell_type": "code",
   "execution_count": 12,
   "id": "4da87111-1d8d-49b4-960e-36ffb2f5e711",
   "metadata": {},
   "outputs": [
    {
     "name": "stdout",
     "output_type": "stream",
     "text": [
      "--- Training: Logistic Regression ---\n",
      "  Accuracy: 0.8852\n",
      "  Recall (Key Metric): 0.9062\n",
      "  Precision: 0.8788\n",
      "  F1-Score: 0.8923\n"
     ]
    },
    {
     "data": {
      "image/png": "[encoded data removed]",
      "text/plain": [
       "<Figure size 600x400 with 2 Axes>"
      ]
     },
     "metadata": {},
     "output_type": "display_data"
    }
   ],
   "source": [
    "print(\"--- Training: Logistic Regression ---\")\n",
    "\n",
    "# 1. Initialize and train the model\n",
    "model_lr = LogisticRegression(max_iter=1000)\n",
    "model_lr.fit(X_train_scaled, y_train)\n",
    "\n",
    "# 2. Make predictions\n",
    "y_pred_lr = model_lr.predict(X_test_scaled)\n",
    "\n",
    "# 3. Calculate all metrics\n",
    "accuracy_lr = accuracy_score(y_test, y_pred_lr)\n",
    "recall_lr = recall_score(y_test, y_pred_lr)\n",
    "precision_lr = precision_score(y_test, y_pred_lr)\n",
    "f1_lr = f1_score(y_test, y_pred_lr)\n",
    "\n",
    "print(f\"  Accuracy: {accuracy_lr:.4f}\")\n",
    "print(f\"  Recall (Key Metric): {recall_lr:.4f}\")\n",
    "print(f\"  Precision: {precision_lr:.4f}\")\n",
    "print(f\"  F1-Score: {f1_lr:.4f}\")\n",
    "\n",
    "# 4. Visualize the Confusion Matrix\n",
    "cm_lr = confusion_matrix(y_test, y_pred_lr)\n",
    "plt.figure(figsize=(6, 4))\n",
    "sns.heatmap(cm_lr, annot=True, fmt='d', cmap='Blues', \n",
    "            xticklabels=['No Disease', 'Disease'], \n",
    "            yticklabels=['No Disease', 'Disease'])\n",
    "plt.xlabel('Predicted Label')\n",
    "plt.ylabel('True Label')\n",
    "plt.title('Confusion Matrix - Logistic Regression')\n",
    "plt.show()"
   ]
  },
  {
   "cell_type": "code",
   "execution_count": null,
   "id": "f0b7b551-baa3-4616-be34-dcd9a661a4c6",
   "metadata": {},
   "outputs": [],
   "source": []
  }
 ],
 "metadata": {
  "kernelspec": {
   "display_name": "Python 3 (ipykernel)",
   "language": "python",
   "name": "python3"
  },
  "language_info": {
   "codemirror_mode": {
    "name": "ipython",
    "version": 3
   },
   "file_extension": ".py",
   "mimetype": "text/x-python",
   "name": "python",
   "nbconvert_exporter": "python",
   "pygments_lexer": "ipython3",
   "version": "3.12.4"
  }
 },
 "nbformat": 4,
 "nbformat_minor": 5
}
