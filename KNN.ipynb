{
 "cells": [
  {
   "cell_type": "markdown",
   "id": "9db8f510-e525-4b48-a65e-cdffe1f6696d",
   "metadata": {},
   "source": [
    "## 1. IMPORT LIBRARIES & FETCH DATA"
   ]
  },
  {
   "cell_type": "code",
   "execution_count": 10,
   "id": "e07b4048-9dac-4969-bd96-54bdaf29d04c",
   "metadata": {},
   "outputs": [
    {
     "name": "stdout",
     "output_type": "stream",
     "text": [
      "--- Step 1: Fetching Data from UCI ---\n",
      "Data fetched successfully.\n"
     ]
    }
   ],
   "source": [
    "import pandas as pd\n",
    "import numpy as np\n",
    "from ucimlrepo import fetch_ucirepo\n",
    "from sklearn.model_selection import train_test_split\n",
    "from sklearn.preprocessing import StandardScaler\n",
    "from sklearn.impute import SimpleImputer # To handle missing data\n",
    "from sklearn.linear_model import LogisticRegression\n",
    "from sklearn.neighbors import KNeighborsClassifier\n",
    "from sklearn.ensemble import RandomForestClassifier\n",
    "from sklearn.metrics import recall_score, confusion_matrix, accuracy_score\n",
    "import joblib\n",
    "import matplotlib.pyplot as plt\n",
    "import seaborn as sns\n",
    "from sklearn.metrics import precision_score, f1_score\n",
    "\n",
    "print(\"--- Step 1: Fetching Data from UCI ---\")\n",
    "\n",
    "# Fetch dataset\n",
    "heart_disease = fetch_ucirepo(id=45)\n",
    "\n",
    "# Data (as pandas dataframes)\n",
    "X = heart_disease.data.features\n",
    "y_raw = heart_disease.data.targets # Will be a DataFrame with a 'num' column\n",
    "\n",
    "print(\"Data fetched successfully.\")"
   ]
  },
  {
   "cell_type": "markdown",
   "id": "167f8396-59d2-4846-96ae-d647cecf79b3",
   "metadata": {},
   "source": [
    "## 2. PREPROCESSING"
   ]
  },
  {
   "cell_type": "code",
   "execution_count": 7,
   "id": "55159f2f-03ee-4547-9efa-e027f36c713e",
   "metadata": {},
   "outputs": [
    {
     "name": "stdout",
     "output_type": "stream",
     "text": [
      "--- Step 2: Preprocessing Data ---\n",
      "Missing values handled using median imputation.\n",
      "Target variable converted to binary (0 = no disease, 1 = has disease).\n"
     ]
    }
   ],
   "source": [
    "print(\"--- Step 2: Preprocessing Data ---\")\n",
    "\n",
    "# 1. Handle Missing Values \n",
    "# We'll replace missing values with the median of their column.\n",
    "imputer = SimpleImputer(strategy='median')\n",
    "X_imputed = imputer.fit_transform(X)\n",
    "\n",
    "# Put the imputed data back into a DataFrame with the original column names\n",
    "X = pd.DataFrame(X_imputed, columns=X.columns)\n",
    "print(\"Missing values handled using median imputation.\")\n",
    "\n",
    "# 2. Process the Target Variable (y)\n",
    "# We convert the target 'num' (0, 1, 2, 3, 4) to binary (0 or 1)\n",
    "# 0 stays 0 (no disease), and 1, 2, 3, 4 become 1 (has disease)\n",
    "y = y_raw['num'].apply(lambda x: 1 if x > 0 else 0)\n",
    "print(\"Target variable converted to binary (0 = no disease, 1 = has disease).\")"
   ]
  },
  {
   "cell_type": "markdown",
   "id": "6da0d605-3eea-42f7-ba45-d70e8cb7861d",
   "metadata": {},
   "source": [
    "## 3. DATA SPLITTING & SCALING"
   ]
  },
  {
   "cell_type": "code",
   "execution_count": 8,
   "id": "a72c2d22-4786-4c3e-badd-8741e2daa51e",
   "metadata": {},
   "outputs": [
    {
     "name": "stdout",
     "output_type": "stream",
     "text": [
      "--- Step 3: Data Split and Scaled ---\n",
      "Training data shape: (242, 13)\n",
      "Testing data shape: (61, 13)\n"
     ]
    }
   ],
   "source": [
    "# Split data into training and testing sets (80% train, 20% test)\n",
    "X_train, X_test, y_train, y_test = train_test_split(X, y, test_size=0.2, random_state=42)\n",
    "\n",
    "# Scale the feature data\n",
    "# This standardizes features to have 0 mean and unit variance\n",
    "scaler = StandardScaler()\n",
    "X_train_scaled = scaler.fit_transform(X_train)\n",
    "X_test_scaled = scaler.transform(X_test) # Use the same scaler from training\n",
    "\n",
    "print(\"--- Step 3: Data Split and Scaled ---\")\n",
    "print(f\"Training data shape: {X_train_scaled.shape}\")\n",
    "print(f\"Testing data shape: {X_test_scaled.shape}\")"
   ]
  },
  {
   "cell_type": "markdown",
   "id": "9b077939-62ec-48ee-9ac5-fee40e164836",
   "metadata": {},
   "source": [
    "## 4. Train & Evaluate"
   ]
  },
  {
   "cell_type": "code",
   "execution_count": 11,
   "id": "4da87111-1d8d-49b4-960e-36ffb2f5e711",
   "metadata": {},
   "outputs": [
    {
     "name": "stdout",
     "output_type": "stream",
     "text": [
      "\n",
      "--- Training: K-Nearest Neighbours ---\n",
      "  Accuracy: 0.9180\n",
      "  Recall (Key Metric): 0.9062\n",
      "  Precision: 0.9355\n",
      "  F1-Score: 0.9206\n"
     ]
    },
    {
     "data": {
      "image/png": "[encoded data removed]",
      "text/plain": [
       "<Figure size 600x400 with 2 Axes>"
      ]
     },
     "metadata": {},
     "output_type": "display_data"
    }
   ],
   "source": [
    "print(\"\\n--- Training: K-Nearest Neighbours ---\")\n",
    "\n",
    "# 1. Initialize and train the model\n",
    "model_knn = KNeighborsClassifier()\n",
    "model_knn.fit(X_train_scaled, y_train)\n",
    "\n",
    "# 2. Make predictions\n",
    "y_pred_knn = model_knn.predict(X_test_scaled)\n",
    "\n",
    "# 3. Calculate all metrics\n",
    "accuracy_knn = accuracy_score(y_test, y_pred_knn)\n",
    "recall_knn = recall_score(y_test, y_pred_knn)\n",
    "precision_knn = precision_score(y_test, y_pred_knn)\n",
    "f1_knn = f1_score(y_test, y_pred_knn)\n",
    "\n",
    "print(f\"  Accuracy: {accuracy_knn:.4f}\")\n",
    "print(f\"  Recall (Key Metric): {recall_knn:.4f}\")\n",
    "print(f\"  Precision: {precision_knn:.4f}\")\n",
    "print(f\"  F1-Score: {f1_knn:.4f}\")\n",
    "\n",
    "# 4. Visualize the Confusion Matrix\n",
    "cm_knn = confusion_matrix(y_test, y_pred_knn)\n",
    "plt.figure(figsize=(6, 4))\n",
    "sns.heatmap(cm_knn, annot=True, fmt='d', cmap='Blues',\n",
    "            xticklabels=['No Disease', 'Disease'], \n",
    "            yticklabels=['No Disease', 'Disease'])\n",
    "plt.xlabel('Predicted Label')\n",
    "plt.ylabel('True Label')\n",
    "plt.title('Confusion Matrix - K-Nearest Neighbours')\n",
    "plt.show()"
   ]
  },
  {
   "cell_type": "markdown",
   "id": "28772f72-d679-4d23-8874-e6c574af1716",
   "metadata": {},
   "source": [
    "## STEP 5: CHOOSE & SAVE THE BEST MODEL"
   ]
  },
  {
   "cell_type": "code",
   "execution_count": 12,
   "id": "2c9aba60-e400-4265-90aa-fd18db02df05",
   "metadata": {},
   "outputs": [
    {
     "name": "stdout",
     "output_type": "stream",
     "text": [
      "\n",
      "--- Step 5: Saving Best Model ---\n",
      "Selected Best Model: K-Nearest Neighbours\n",
      "\n",
      "Successfully saved 'best_model.joblib', 'scaler.joblib', and 'imputer.joblib'.\n"
     ]
    }
   ],
   "source": [
    "print(\"\\n--- Step 5: Saving Best Model ---\")\n",
    "\n",
    "# As per the presentation, we prioritize the model with the HIGHEST RECALL.\n",
    "\n",
    "best_model = model_knn\n",
    "best_model_name = \"K-Nearest Neighbours\"\n",
    "try:\n",
    "    best_model_name\n",
    "    print(f\"Selected Best Model: {best_model_name}\")\n",
    "\n",
    "    # Save the chosen model, the scaler, and the imputer\n",
    "    joblib.dump(best_model, 'best_model.joblib')\n",
    "    joblib.dump(scaler, 'scaler.joblib')\n",
    "    joblib.dump(imputer, 'imputer.joblib')\n",
    "\n",
    "    print(\"\\nSuccessfully saved 'best_model.joblib', 'scaler.joblib', and 'imputer.joblib'.\")\n",
    "\n",
    "except NameError:\n",
    "    print(\"No model was saved.\")"
   ]
  }
 ],
 "metadata": {
  "kernelspec": {
   "display_name": "Python 3 (ipykernel)",
   "language": "python",
   "name": "python3"
  },
  "language_info": {
   "codemirror_mode": {
    "name": "ipython",
    "version": 3
   },
   "file_extension": ".py",
   "mimetype": "text/x-python",
   "name": "python",
   "nbconvert_exporter": "python",
   "pygments_lexer": "ipython3",
   "version": "3.12.4"
  }
 },
 "nbformat": 4,
 "nbformat_minor": 5
}
